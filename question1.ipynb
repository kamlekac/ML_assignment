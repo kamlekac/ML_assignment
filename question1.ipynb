{
 "cells": [
  {
   "cell_type": "code",
   "execution_count": 3,
   "id": "ba6cda37",
   "metadata": {},
   "outputs": [
    {
     "name": "stdout",
     "output_type": "stream",
     "text": [
      "The sorted elements are [19, 19, 20, 22, 24, 24, 24, 25, 25, 26]\n",
      "The minimum and maximum of ages are:  19 and 26\n"
     ]
    }
   ],
   "source": [
    "#Q1.>>Sort the list and find the min and max age\n",
    "ages=[19, 22, 19, 24, 20, 25, 26, 24, 25, 24]\n",
    "# sorting the elements in the given group\n",
    "ages.sort()\n",
    "print(\"The sorted elements are\" ,ages)\n",
    ">>#Finding the minimum and maximum of ages\n",
    "print(\"The minimum and maximum of ages are: \" ,min(ages),\"and\", max(ages))\n",
    "\n"
   ]
  },
  {
   "cell_type": "code",
   "execution_count": 3,
   "id": "08f1f316",
   "metadata": {},
   "outputs": [
    {
     "name": "stdout",
     "output_type": "stream",
     "text": [
      "[19, 19, 19, 20, 22, 24, 24, 24, 25, 25, 26, 26]\n"
     ]
    }
   ],
   "source": [
    "ages=[19, 19, 20, 22, 24, 24, 24, 25, 25, 26]\n",
    "# adding the min age\n",
    "ages.insert(0,min(ages))\n",
    "#adding the max age\n",
    "ages.append(max(ages))\n",
    "#printing the added min and max age\n",
    "print(ages)"
   ]
  },
  {
   "cell_type": "code",
   "execution_count": 1,
   "id": "ca27f698",
   "metadata": {},
   "outputs": [
    {
     "name": "stdout",
     "output_type": "stream",
     "text": [
      "The median of the list 24.0\n"
     ]
    }
   ],
   "source": [
    "import statistics\n",
    "ages=[19, 19, 20, 22, 24, 24, 24, 25, 25, 26]\n",
    "#To find the median of the list\n",
    "print(\"The median of the list\" ,statistics.median([19, 19, 20, 22, 24, 24, 24, 25, 25, 26]))"
   ]
  },
  {
   "cell_type": "code",
   "execution_count": 11,
   "id": "778f687e",
   "metadata": {},
   "outputs": [
    {
     "name": "stdout",
     "output_type": "stream",
     "text": [
      "10\n",
      "The average is 22.8\n"
     ]
    }
   ],
   "source": [
    "ages=[19, 19, 20, 22, 24, 24, 24, 25, 25, 26]\n",
    "#To find the length of the given list\n",
    "print(len(ages))\n",
    "#Diving the sum of the list by the length of the list to get average\n",
    "average=sum(ages)/len(ages)\n",
    "print(\"The average is\" ,average)"
   ]
  },
  {
   "cell_type": "code",
   "execution_count": 6,
   "id": "b7484f80",
   "metadata": {},
   "outputs": [
    {
     "name": "stdout",
     "output_type": "stream",
     "text": [
      "The range is 7\n"
     ]
    }
   ],
   "source": [
    "ages=[19, 19, 20, 22, 24, 24, 24, 25, 25, 26]\n",
    "#Finding the range of the given list, maximum -minimum of the list\n",
    "print(\"The range is\" , max(ages)-min(ages))"
   ]
  }
 ],
 "metadata": {
  "kernelspec": {
   "display_name": "Python 3 (ipykernel)",
   "language": "python",
   "name": "python3"
  },
  "language_info": {
   "codemirror_mode": {
    "name": "ipython",
    "version": 3
   },
   "file_extension": ".py",
   "mimetype": "text/x-python",
   "name": "python",
   "nbconvert_exporter": "python",
   "pygments_lexer": "ipython3",
   "version": "3.9.13"
  }
 },
 "nbformat": 4,
 "nbformat_minor": 5
}
