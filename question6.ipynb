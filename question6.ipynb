{
 "cells": [
  {
   "cell_type": "code",
   "execution_count": 9,
   "id": "860cbe51",
   "metadata": {
    "scrolled": true
   },
   "outputs": [
    {
     "name": "stdout",
     "output_type": "stream",
     "text": [
      "['I', 'am', 'a', 'teacher', 'and', 'I', 'love', 'to', 'inspire', 'and', 'teach', 'people']\n",
      "{'inspire', 'to', 'people', 'I', 'am', 'and', 'love', 'teacher', 'teach', 'a'}\n",
      "10\n"
     ]
    }
   ],
   "source": [
    "given= \"I am a teacher and I love to inspire and teach people\"\n",
    "#First need to convert the sentence to list for the unique words using split.\n",
    "listed=given.split()\n",
    "print(listed)\n",
    "#finding the unique words from a set\n",
    "u_words=set(listed)\n",
    "print(u_words)\n",
    "#number of unique words\n",
    "print(len(u_words))"
   ]
  }
 ],
 "metadata": {
  "kernelspec": {
   "display_name": "Python 3 (ipykernel)",
   "language": "python",
   "name": "python3"
  },
  "language_info": {
   "codemirror_mode": {
    "name": "ipython",
    "version": 3
   },
   "file_extension": ".py",
   "mimetype": "text/x-python",
   "name": "python",
   "nbconvert_exporter": "python",
   "pygments_lexer": "ipython3",
   "version": "3.9.13"
  }
 },
 "nbformat": 4,
 "nbformat_minor": 5
}
