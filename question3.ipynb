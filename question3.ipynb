{
 "cells": [
  {
   "cell_type": "code",
   "execution_count": 1,
   "id": "564a11fb",
   "metadata": {},
   "outputs": [
    {
     "name": "stdout",
     "output_type": "stream",
     "text": [
      "sister name : ('Sneha', 'Radha')\n",
      "brother name : ('Ram', 'Gopi')\n"
     ]
    }
   ],
   "source": [
    "sister=(\"Sneha\",\"Radha\")\n",
    "brother=(\"Ram\",\"Gopi\")\n",
    "#sister names\n",
    "print(\"sister name :\" ,sister)\n",
    "#brother names\n",
    "print(\"brother name :\" ,brother)"
   ]
  },
  {
   "cell_type": "code",
   "execution_count": 2,
   "id": "33d5591b",
   "metadata": {},
   "outputs": [
    {
     "name": "stdout",
     "output_type": "stream",
     "text": [
      "siblings are ('Sneha', 'Radha', 'Ram', 'Gopi')\n"
     ]
    }
   ],
   "source": [
    "sister=(\"Sneha\",\"Radha\")\n",
    "brother=(\"Ram\",\"Gopi\")\n",
    "#joining brother and sister tuples \n",
    "siblings=sister+brother\n",
    "print(\"siblings are\" , siblings)"
   ]
  },
  {
   "cell_type": "code",
   "execution_count": 3,
   "id": "93a05a4f",
   "metadata": {},
   "outputs": [
    {
     "name": "stdout",
     "output_type": "stream",
     "text": [
      "The number of siblings are 4\n"
     ]
    }
   ],
   "source": [
    "#printing number of siblings\n",
    "siblings=(\"Sneha\",\"Radha\",\"Ram\",\"Gopi\")\n",
    "print(\"The number of siblings are\" ,len(siblings))"
   ]
  },
  {
   "cell_type": "code",
   "execution_count": 3,
   "id": "eae6a2fe",
   "metadata": {},
   "outputs": [
    {
     "name": "stdout",
     "output_type": "stream",
     "text": [
      "('Sneha', 'Radha', 'Ram', 'Gopi', 'Raju', 'Archana')\n"
     ]
    }
   ],
   "source": [
    "siblings=(\"Sneha\",\"Radha\",\"Ram\",\"Gopi\")\n",
    "#assiging the name of father and mother\n",
    "father_mother=(\"Raju\",\"Archana\")\n",
    "#adding the father and mother name to siblings and naming it as family members\n",
    "family_members=siblings+father_mother\n",
    "print(family_members)"
   ]
  }
 ],
 "metadata": {
  "kernelspec": {
   "display_name": "Python 3 (ipykernel)",
   "language": "python",
   "name": "python3"
  },
  "language_info": {
   "codemirror_mode": {
    "name": "ipython",
    "version": 3
   },
   "file_extension": ".py",
   "mimetype": "text/x-python",
   "name": "python",
   "nbconvert_exporter": "python",
   "pygments_lexer": "ipython3",
   "version": "3.9.13"
  }
 },
 "nbformat": 4,
 "nbformat_minor": 5
}
