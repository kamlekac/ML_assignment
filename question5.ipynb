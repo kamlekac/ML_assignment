{
 "cells": [
  {
   "cell_type": "code",
   "execution_count": 4,
   "id": "772332a6",
   "metadata": {},
   "outputs": [
    {
     "name": "stdout",
     "output_type": "stream",
     "text": [
      "2826.0\n"
     ]
    }
   ],
   "source": [
    "radius=30\n",
    "area_of_circle=3.14*radius*radius\n",
    "#area of the circle\n",
    "print(\"The area of circle\" ,area_of_circle)"
   ]
  },
  {
   "cell_type": "code",
   "execution_count": 6,
   "id": "a04ab5ac",
   "metadata": {},
   "outputs": [
    {
     "name": "stdout",
     "output_type": "stream",
     "text": [
      "188.4\n"
     ]
    }
   ],
   "source": [
    "radius=30\n",
    "circum_of_circle=2*3.14*radius\n",
    "#circumference of the circle\n",
    "print(\"The circumference of circle:\" ,circum_of_circle)"
   ]
  },
  {
   "cell_type": "code",
   "execution_count": 1,
   "id": "9fb028e0",
   "metadata": {},
   "outputs": [
    {
     "name": "stdout",
     "output_type": "stream",
     "text": [
      "Enter the radius of the circle 30\n",
      "The area is  2826.0\n"
     ]
    }
   ],
   "source": [
    "#enter the radius of the circle\n",
    "r=input(\"Enter the radius of the circle \")\n",
    "#finding the area here\n",
    "area=3.14*int(r)*int(r)\n",
    "print(\"The area is \" ,area)"
   ]
  }
 ],
 "metadata": {
  "kernelspec": {
   "display_name": "Python 3 (ipykernel)",
   "language": "python",
   "name": "python3"
  },
  "language_info": {
   "codemirror_mode": {
    "name": "ipython",
    "version": 3
   },
   "file_extension": ".py",
   "mimetype": "text/x-python",
   "name": "python",
   "nbconvert_exporter": "python",
   "pygments_lexer": "ipython3",
   "version": "3.9.13"
  }
 },
 "nbformat": 4,
 "nbformat_minor": 5
}
