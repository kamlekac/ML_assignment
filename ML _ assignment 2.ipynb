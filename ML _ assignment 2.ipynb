{
 "cells": [
  {
   "cell_type": "code",
   "execution_count": 50,
   "id": "3c77d68b",
   "metadata": {},
   "outputs": [
    {
     "name": "stdout",
     "output_type": "stream",
     "text": [
      "* \n",
      "* * \n",
      "* * * \n",
      "* * * * \n",
      "* * * * * \n",
      "* * * * \n",
      "* * * \n",
      "* * \n",
      "* \n"
     ]
    }
   ],
   "source": [
    "# Q.1\n",
    "#We are using two pyramids here, first and the second to print the given patterns. \n",
    "#in the first looping we are using range of 0 to 5 for i, and printing the another loop from 0 to i+1 \n",
    "for i in range(0,5):\n",
    "    for j in range (0,i+1):\n",
    "        print(\"* \",end=\"\")\n",
    "    print()\n",
    "# for the for loop below, printing the 4 stars and then printing it till loop goes to end.\n",
    "for x in range(0,4):\n",
    "    for y in range(x,4):\n",
    "        print(\"* \", end=\"\")\n",
    "    print()"
   ]
  },
  {
   "cell_type": "code",
   "execution_count": 25,
   "id": "7955123d",
   "metadata": {},
   "outputs": [
    {
     "name": "stdout",
     "output_type": "stream",
     "text": [
      "20\n",
      "40\n",
      "60\n",
      "80\n",
      "100\n"
     ]
    }
   ],
   "source": [
    "#Q.2\n",
    "my_list = [10, 20, 30, 40, 50, 60, 70, 80, 90, 100]\n",
    "\n",
    "#using the for loop to traverse in the list and checking the condition for odd number for index, if odd, then printing\n",
    "for item in range(len(my_list)):\n",
    "    if item%2!=0:\n",
    "        print(my_list[item])\n",
    "    \n",
    "    "
   ]
  },
  {
   "cell_type": "code",
   "execution_count": 41,
   "id": "e53cd13d",
   "metadata": {},
   "outputs": [
    {
     "name": "stdout",
     "output_type": "stream",
     "text": [
      "[<class 'int'>, <class 'str'>, <class 'float'>]\n"
     ]
    }
   ],
   "source": [
    "#Q.3\n",
    "x = [23, \"Python\", 23.98]\n",
    "y=[]\n",
    "#using the for loop to traverse over the list and using type to find the type of elements and adding into empty list\n",
    "for item in x:\n",
    "    z=type(item)\n",
    "    y.append(z)\n",
    "print(y)"
   ]
  },
  {
   "cell_type": "code",
   "execution_count": 44,
   "id": "92c7423d",
   "metadata": {},
   "outputs": [
    {
     "name": "stdout",
     "output_type": "stream",
     "text": [
      "[1, 2, 3, 4, 5]\n"
     ]
    }
   ],
   "source": [
    "#Q.4\n",
    "# defining a function sample, \n",
    "#using for loop function and using if condition to find if elements are already present in the empty list\n",
    "def uniqfunc(sample):\n",
    "    uniq=[]\n",
    "    for i in sample:\n",
    "        if i not in uniq:\n",
    "            uniq.append(i)\n",
    "    print(uniq)\n",
    "uniqfunc([1,2,3,3,3,3,4,5])"
   ]
  },
  {
   "cell_type": "code",
   "execution_count": 49,
   "id": "c87e4736",
   "metadata": {},
   "outputs": [
    {
     "name": "stdout",
     "output_type": "stream",
     "text": [
      "No. of Upper-case characters: 3\n",
      "No. of Lower-case Characters: 12\n"
     ]
    }
   ],
   "source": [
    "#Q.5\n",
    "# defining the function here\n",
    "def sampfunc(sample):\n",
    "#assigning low and up values to 0 \n",
    "    low =0\n",
    "    up = 0\n",
    " # removing whitespaces uusing replace   \n",
    "    sample = sample.replace(\" \",\"\")\n",
    "# traversing for lopp in sample and it is low, then we are adding in low, else up.\n",
    "    for i in sample:\n",
    "        if i.islower():\n",
    "            low = low + 1\n",
    "        else:\n",
    "            up = up + 1\n",
    "    print(\"No. of Upper-case characters:\" ,up)\n",
    "    print(\"No. of Lower-case Characters:\" ,low)\n",
    "sample = \"The quick Brow Fox\"\n",
    "sampfunc(sample)"
   ]
  },
  {
   "cell_type": "code",
   "execution_count": null,
   "id": "7920ff8f",
   "metadata": {},
   "outputs": [],
   "source": []
  },
  {
   "cell_type": "code",
   "execution_count": null,
   "id": "63f55098",
   "metadata": {},
   "outputs": [],
   "source": []
  }
 ],
 "metadata": {
  "kernelspec": {
   "display_name": "Python 3 (ipykernel)",
   "language": "python",
   "name": "python3"
  },
  "language_info": {
   "codemirror_mode": {
    "name": "ipython",
    "version": 3
   },
   "file_extension": ".py",
   "mimetype": "text/x-python",
   "name": "python",
   "nbconvert_exporter": "python",
   "pygments_lexer": "ipython3",
   "version": "3.9.13"
  }
 },
 "nbformat": 4,
 "nbformat_minor": 5
}
