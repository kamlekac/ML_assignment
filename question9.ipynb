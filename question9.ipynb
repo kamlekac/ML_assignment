{
 "cells": [
  {
   "cell_type": "code",
   "execution_count": 1,
   "id": "2b609f67",
   "metadata": {},
   "outputs": [
    {
     "name": "stdout",
     "output_type": "stream",
     "text": [
      "Enter the weight in lbs 90 98 90 90\n",
      "[40.5, 44.1, 40.5, 40.5]\n"
     ]
    }
   ],
   "source": [
    "#Taking the input\n",
    "students=input(\"Enter the weight in lbs \")\n",
    "#converting the string to the list using split\n",
    "y=students.split(  )\n",
    "kilogram=[]\n",
    "z=[float(x) for x in y]\n",
    "#for elements in list convert the lbs to kgs\n",
    "for item in z:\n",
    "    kg=item*0.45\n",
    "#adding the convert weight to list\n",
    "    kilogram.append(kg)\n",
    "print(kilogram)\n",
    "\n",
    "\n",
    "\n",
    "\n"
   ]
  }
 ],
 "metadata": {
  "kernelspec": {
   "display_name": "Python 3 (ipykernel)",
   "language": "python",
   "name": "python3"
  },
  "language_info": {
   "codemirror_mode": {
    "name": "ipython",
    "version": 3
   },
   "file_extension": ".py",
   "mimetype": "text/x-python",
   "name": "python",
   "nbconvert_exporter": "python",
   "pygments_lexer": "ipython3",
   "version": "3.9.13"
  }
 },
 "nbformat": 4,
 "nbformat_minor": 5
}
