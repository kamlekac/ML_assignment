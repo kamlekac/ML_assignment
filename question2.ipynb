{
 "cells": [
  {
   "cell_type": "code",
   "execution_count": 7,
   "id": "a9bd6a93",
   "metadata": {},
   "outputs": [
    {
     "name": "stdout",
     "output_type": "stream",
     "text": [
      "{}\n"
     ]
    }
   ],
   "source": [
    "#creating an empty dictionary\n",
    "dog={}\n",
    "print(dog)"
   ]
  },
  {
   "cell_type": "code",
   "execution_count": 2,
   "id": "09a4bf69",
   "metadata": {},
   "outputs": [
    {
     "name": "stdout",
     "output_type": "stream",
     "text": [
      "{'name': 'Teddy', 'color': 'Brown', 'breed': 'Chow Chow', 'legs': 'Four', 'age': 2}\n"
     ]
    }
   ],
   "source": [
    "#adding details to dictionary\n",
    "dog={    \n",
    "     \"name\":\"Teddy\",\n",
    "     \"color\":\"Brown\",\n",
    "     \"breed\":\"Chow Chow\",\n",
    "     \"legs\":\"Four\",\n",
    "     \"age\":2,\n",
    "    }\n",
    "print(dog)"
   ]
  },
  {
   "cell_type": "code",
   "execution_count": 3,
   "id": "e5ba7d34",
   "metadata": {},
   "outputs": [
    {
     "name": "stdout",
     "output_type": "stream",
     "text": [
      "{'first_name': 'Catherine', 'last_name': 'Dsouza', 'gender': 'Female', 'age': '26', 'marital status': 'single', 'skills': ['Dancing', 'Singing'], 'country': 'United States', 'city': 'New York', 'address': '212, St.Annes, Alpine'}\n"
     ]
    }
   ],
   "source": [
    "# Creating student dictionary and adding keys and values to it\n",
    "student={\"first_name\":\"Catherine\", \n",
    "         \"last_name\":\"Dsouza\",\n",
    "         \"gender\":\"Female\", \n",
    "         \"age\":\"26\", \n",
    "         \"marital status\":\"single\",\n",
    "         \"skills\":[\"Dancing\",\"Singing\"],\n",
    "         \"country\":\"United States\", \n",
    "         \"city\":\"New York\",\n",
    "         \"address\":\"212, St.Annes, Alpine\"\n",
    "}\n",
    "print(student)"
   ]
  },
  {
   "cell_type": "code",
   "execution_count": 1,
   "id": "1ee3ef00",
   "metadata": {},
   "outputs": [
    {
     "name": "stdout",
     "output_type": "stream",
     "text": [
      "The length of dictionary 9\n"
     ]
    }
   ],
   "source": [
    "#length of the student dictionary\n",
    "student={\"first_name\":\"Catherine\", \n",
    "         \"last_name\":\"Dsouza\",\n",
    "         \"gender\":\"Female\", \n",
    "         \"age\":\"26\", \n",
    "         \"marital status\":\"single\",\n",
    "         \"skills\":[\"Dancing\",\"Singing\"],\n",
    "         \"country\":\"United States\", \n",
    "         \"city\":\"New York\",\n",
    "         \"address\":\"212, St.Annes, Alpine\"\n",
    "}\n",
    "print(\"The length of dictionary\" , len(student))\n"
   ]
  },
  {
   "cell_type": "code",
   "execution_count": 3,
   "id": "eb164c7c",
   "metadata": {},
   "outputs": [
    {
     "name": "stdout",
     "output_type": "stream",
     "text": [
      "The skills are ['Dancing', 'Singing']\n",
      "The type of the skills is  <class 'list'>\n"
     ]
    }
   ],
   "source": [
    "student={\"first_name\":\"Catherine\", \n",
    "         \"last_name\":\"Dsouza\",\n",
    "         \"gender\":\"Female\", \n",
    "         \"age\":\"26\", \n",
    "         \"marital status\":\"single\",\n",
    "         \"skills\":[\"Dancing\",\"Singing\"],\n",
    "         \"country\":\"United States\", \n",
    "         \"city\":\"New York\",\n",
    "         \"address\":\"212, St.Annes, Alpine\"\n",
    "}\n",
    "#value of skills\n",
    "print(\"The skills are\" ,student.get('skills'))\n",
    "#checking the data type of the skills\n",
    "print(\"The type of the skills is \" ,type(student.get('skills')))"
   ]
  },
  {
   "cell_type": "code",
   "execution_count": 9,
   "id": "12d94834",
   "metadata": {},
   "outputs": [
    {
     "name": "stdout",
     "output_type": "stream",
     "text": [
      "{'first_name': 'Catherine', 'last_name': 'Dsouza', 'gender': 'Female', 'age': '26', 'marital status': 'single', 'skills': ['Dancing', 'Singing', 'Skating'], 'country': 'United States', 'city': 'New York', 'address': '212, St.Annes, Alpine'}\n"
     ]
    }
   ],
   "source": [
    "student= {\"first_name\":\"Catherine\", \n",
    "         \"last_name\":\"Dsouza\",\n",
    "         \"gender\":\"Female\", \n",
    "         \"age\":\"26\", \n",
    "         \"marital status\":\"single\",\n",
    "         \"skills\":[\"Dancing\",\"Singing\"],\n",
    "         \"country\":\"United States\", \n",
    "         \"city\":\"New York\",\n",
    "         \"address\":\"212, St.Annes, Alpine\"\n",
    "}\n",
    "#Adding a new value to the skills\n",
    "student[\"skills\"].append(\"Skating\")\n",
    "print(student)\n",
    "\n",
    "    \n",
    "    \n",
    "    \n"
   ]
  },
  {
   "cell_type": "code",
   "execution_count": 4,
   "id": "7edce548",
   "metadata": {},
   "outputs": [
    {
     "name": "stdout",
     "output_type": "stream",
     "text": [
      "The dictionary keys as list are dict_keys(['first_name', 'last_name', 'gender', 'age', 'marital status', 'skills', 'country', 'city', 'address'])\n"
     ]
    }
   ],
   "source": [
    "student= {\"first_name\":\"Catherine\", \n",
    "         \"last_name\":\"Dsouza\",\n",
    "         \"gender\":\"Female\", \n",
    "         \"age\":\"26\", \n",
    "         \"marital status\":\"single\",\n",
    "         \"skills\":[\"Dancing\",\"Singing\"],\n",
    "         \"country\":\"United States\", \n",
    "         \"city\":\"New York\",\n",
    "         \"address\":\"212, St.Annes, Alpine\"\n",
    "}\n",
    "#to get keys as list\n",
    "print(\"The dictionary keys as list are\" ,student.keys())"
   ]
  },
  {
   "cell_type": "code",
   "execution_count": 10,
   "id": "7e48f825",
   "metadata": {},
   "outputs": [
    {
     "name": "stdout",
     "output_type": "stream",
     "text": [
      "The dictionary values as list are dict_values(['Catherine', 'Dsouza', 'Female', '26', 'single', ['Dancing', 'Singing'], 'United States', 'New York', '212, St.Annes, Alpine'])\n"
     ]
    }
   ],
   "source": [
    "student={\"first_name\":\"Catherine\", \n",
    "         \"last_name\":\"Dsouza\",\n",
    "         \"gender\":\"Female\", \n",
    "         \"age\":\"26\", \n",
    "         \"marital status\":\"single\",\n",
    "         \"skills\":[\"Dancing\",\"Singing\"],\n",
    "         \"country\":\"United States\", \n",
    "         \"city\":\"New York\",\n",
    "         \"address\":\"212, St.Annes, Alpine\"\n",
    "}#to get values as list\n",
    "print(\"The dictionary values as list are\" ,student.values())"
   ]
  }
 ],
 "metadata": {
  "kernelspec": {
   "display_name": "Python 3 (ipykernel)",
   "language": "python",
   "name": "python3"
  },
  "language_info": {
   "codemirror_mode": {
    "name": "ipython",
    "version": 3
   },
   "file_extension": ".py",
   "mimetype": "text/x-python",
   "name": "python",
   "nbconvert_exporter": "python",
   "pygments_lexer": "ipython3",
   "version": "3.9.13"
  }
 },
 "nbformat": 4,
 "nbformat_minor": 5
}
