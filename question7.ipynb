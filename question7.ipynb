{
 "cells": [
  {
   "cell_type": "code",
   "execution_count": 2,
   "id": "5fc3a52b",
   "metadata": {
    "scrolled": false
   },
   "outputs": [
    {
     "name": "stdout",
     "output_type": "stream",
     "text": [
      "Name\t\tAge\tCountry\t\tCity\n",
      "Asabeneh\t250\tFinland\t\tHelsinki\n"
     ]
    }
   ],
   "source": [
    "#Using tab escape sequence to get the following line\n",
    "Details=\"Name\\t\\tAge\\tCountry\\t\\tCity\\nAsabeneh\\t250\\tFinland\\t\\tHelsinki\"\n",
    "print(Details)"
   ]
  }
 ],
 "metadata": {
  "kernelspec": {
   "display_name": "Python 3 (ipykernel)",
   "language": "python",
   "name": "python3"
  },
  "language_info": {
   "codemirror_mode": {
    "name": "ipython",
    "version": 3
   },
   "file_extension": ".py",
   "mimetype": "text/x-python",
   "name": "python",
   "nbconvert_exporter": "python",
   "pygments_lexer": "ipython3",
   "version": "3.9.13"
  }
 },
 "nbformat": 4,
 "nbformat_minor": 5
}
